{
 "cells": [
  {
   "cell_type": "markdown",
   "metadata": {},
   "source": [
    "![](presentation/function_triangulation.png)"
   ]
  },
  {
   "cell_type": "code",
   "execution_count": null,
   "metadata": {},
   "outputs": [],
   "source": [
    "from functools import partial, lru_cache\n",
    "\n",
    "from ipywidgets import interact_manual\n",
    "import numpy as np\n",
    "import scipy.linalg\n",
    "import scipy.spatial\n",
    "import kwant\n",
    "\n",
    "import adaptive\n",
    "adaptive.notebook_extension()\n",
    "\n",
    "import warnings\n",
    "warnings.filterwarnings(\"ignore\")"
   ]
  },
  {
   "cell_type": "code",
   "execution_count": null,
   "metadata": {},
   "outputs": [],
   "source": [
    "# Define the lattice vectors of some common unit cells\n",
    "hexegonal = ((0, 1, 0),\n",
    "             (np.cos(-np.pi/6), np.sin(-np.pi/6), 0),\n",
    "             (0, 0, 1))\n",
    "\n",
    "simple_cubic = ((1, 0, 0),\n",
    "                (0, 1, 0),\n",
    "                (0, 0, 1))\n",
    "\n",
    "fcc = ((0,.5,.5),\n",
    "       (.5,.5,0),\n",
    "       (.5,0,.5))\n",
    "\n",
    "bcc = ((-.5, .5, .5),\n",
    "       (.5,-.5, .5),\n",
    "       (.5, .5,-.5))\n",
    "\n",
    "lattices = dict(hexegonal=hexegonal, simple_cubic=simple_cubic, fcc=fcc, bcc=bcc)"
   ]
  },
  {
   "cell_type": "code",
   "execution_count": null,
   "metadata": {},
   "outputs": [],
   "source": [
    "@lru_cache()\n",
    "def create_syst(unit_cell):\n",
    "    unit_cell_atoms = [( 0,  0,  0)]\n",
    "    lat = kwant.lattice.Polyatomic(unit_cell, unit_cell_atoms, 'Some crystal')\n",
    "   \n",
    "    syst = kwant.Builder(kwant.TranslationalSymmetry(*lat.prim_vecs)) # infinite in all dimensions\n",
    "    \n",
    "    syst[lat.shape(lambda pos: True, (0, 0, 0))] = 6 # onsite\n",
    "    syst[lat.neighbors()] = -1 # hopping\n",
    "\n",
    "    syst = kwant.wraparound.wraparound(syst).finalized()\n",
    "\n",
    "    return syst\n",
    "\n",
    "def get_hull(unit_cell):\n",
    "    syst = create_syst(unit_cell)\n",
    "    A = get_A(syst)\n",
    "    neighbours = kwant.linalg.lll.voronoi(A)\n",
    "    lattice_points = np.concatenate(([[0,0,0]], neighbours))\n",
    "    lattice_points = 2 * np.pi * (lattice_points @ A.T)\n",
    "    vor = scipy.spatial.Voronoi(lattice_points)\n",
    "    brillouin_zone = vor.vertices[vor.regions[vor.point_region[0]]]\n",
    "    hull = scipy.spatial.ConvexHull(brillouin_zone)\n",
    "    return hull\n",
    "\n",
    "def energies(params, syst):\n",
    "    H = syst.hamiltonian_submatrix(params=params)\n",
    "    eigs = np.linalg.eigvalsh(H)\n",
    "    return eigs\n",
    "\n",
    "def momentum_to_lattice(k, syst):\n",
    "    A = get_A(syst)\n",
    "    k, residuals = scipy.linalg.lstsq(A, k)[:2]\n",
    "    if np.any(abs(residuals) > 1e-7):\n",
    "        raise RuntimeError(\"Requested momentum doesn't correspond\"\n",
    "                           \" to any lattice momentum.\")\n",
    "    return k\n",
    "\n",
    "def get_A(syst):\n",
    "    B = np.asarray(syst._wrapped_symmetry.periods).T\n",
    "    return np.linalg.pinv(B).T\n",
    "\n",
    "def E(k, unit_cell):\n",
    "    syst = create_syst(unit_cell)\n",
    "    k_x, k_y, k_z = momentum_to_lattice(k, syst)\n",
    "    return min(energies({'k_x': k_x, 'k_y': k_y, 'k_z': k_z}, syst))"
   ]
  },
  {
   "cell_type": "code",
   "execution_count": null,
   "metadata": {},
   "outputs": [],
   "source": [
    "learners = []\n",
    "for name, unit_cell in lattices.items():\n",
    "    hull = get_hull(unit_cell)\n",
    "    learner = adaptive.LearnerND(partial(E, unit_cell=unit_cell), hull)\n",
    "    learner.fname = name\n",
    "    learners.append(learner)\n",
    "learner = adaptive.BalancingLearner(learners, strategy='npoints')\n",
    "learner.load('lattices')"
   ]
  },
  {
   "cell_type": "code",
   "execution_count": null,
   "metadata": {},
   "outputs": [],
   "source": [
    "# runner = adaptive.Runner(learner, goal=lambda l: l.learners[0].npoints > 5000) \n",
    "# runner.live_info()"
   ]
  },
  {
   "cell_type": "code",
   "execution_count": null,
   "metadata": {},
   "outputs": [],
   "source": [
    "def select(name, learner=learner):\n",
    "    return next(l for l in learner.learners if l.fname == name)\n",
    "\n",
    "def iso(unit_cell, level=8.5):\n",
    "    l = select(unit_cell)\n",
    "    return l.plot_isosurface(level=level)\n",
    "\n",
    "def plot_tri(unit_cell):\n",
    "    from plot_tri import plot\n",
    "    l = select(unit_cell)\n",
    "    return plot(l)"
   ]
  },
  {
   "cell_type": "code",
   "execution_count": null,
   "metadata": {},
   "outputs": [],
   "source": [
    "interact_manual(plot_tri, unit_cell=lattices.keys())"
   ]
  },
  {
   "cell_type": "code",
   "execution_count": null,
   "metadata": {},
   "outputs": [],
   "source": [
    "interact_manual(iso, level=(-6, 9, 0.1), unit_cell=lattices.keys()) "
   ]
  },
  {
   "cell_type": "code",
   "execution_count": null,
   "metadata": {},
   "outputs": [],
   "source": [
    "import holoviews as hv\n",
    "def plot_slice(unit_cell, xyz, value):\n",
    "    learner = select(unit_cell)\n",
    "    direction = {'x': 0, 'y': 1, 'z': 2}[xyz]\n",
    "    return learner.plot_slice(cut_mapping={direction: value}, n=100)\n",
    "\n",
    "hv.DynamicMap(plot_slice, kdims=['unit_cell', 'xyz', 'value']).redim.values(\n",
    "    unit_cell=list(lattices.keys()), xyz=list('xyz'), value=np.linspace(-4, 4))"
   ]
  }
 ],
 "metadata": {
  "language_info": {
   "name": "python",
   "pygments_lexer": "ipython3"
  }
 },
 "nbformat": 4,
 "nbformat_minor": 2
}
