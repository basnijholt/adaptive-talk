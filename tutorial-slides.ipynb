{
 "cells": [
  {
   "cell_type": "markdown",
   "metadata": {
    "slideshow": {
     "slide_type": "skip"
    }
   },
   "source": [
    "# Presentation notes:\n",
    "* Run this presentation with [`RISE`](https://github.com/damianavila/RISE): `conda install -c damianavila82 rise`\n",
    "* Install [`nbextensions`](https://github.com/ipython-contrib/jupyter_contrib_nbextensions): `conda install -c conda-forge jupyter_contrib_nbextensions`\n",
    "* Enable \"Hide code\" plugin with `jupyter nbextension enable hide_input/main`\n",
    "* Click on the \"Enter RISE Slideshow\" button"
   ]
  },
  {
   "cell_type": "code",
   "execution_count": null,
   "metadata": {
    "slideshow": {
     "slide_type": "skip"
    }
   },
   "outputs": [],
   "source": [
    "%%HTML\n",
    "<style>\n",
    "div.prompt {display: none}\n",
    "div.cell {padding: 0px}\n",
    ".slides{\n",
    "    width: 95% !important;\n",
    "    height: 95% !important;\n",
    "    bottom: 0px;\n",
    "    overflow-y: hidden !important;\n",
    "    overflow-x: hidden !important;\n",
    "}\n",
    "</style>"
   ]
  },
  {
   "cell_type": "code",
   "execution_count": null,
   "metadata": {
    "hide_input": false,
    "slideshow": {
     "slide_type": "skip"
    }
   },
   "outputs": [],
   "source": [
    "import adaptive\n",
    "adaptive.notebook_extension()\n",
    "\n",
    "# Import other modules that are used later\n",
    "from functools import partial\n",
    "import random\n",
    "import holoviews as hv  # Plotting\n",
    "from matplotlib import pyplot as plt\n",
    "import numpy as np\n",
    "\n",
    "def f(x, offset=0.07357338543088588):\n",
    "    a = 0.01\n",
    "    return x + a**2 / (a**2 + (x - offset)**2)\n",
    "\n",
    "def plot_sharp_peak(figsize):\n",
    "    plt.xkcd(randomness=0.5)\n",
    "\n",
    "    fig = plt.figure(figsize=figsize)\n",
    "    ax = fig.add_subplot(1, 1, 1)\n",
    "    ax.spines['right'].set_color('none')\n",
    "    ax.spines['top'].set_color('none')\n",
    "    plt.xticks([])\n",
    "    plt.yticks([])\n",
    "\n",
    "    xs = np.linspace(0, 1, 300)\n",
    "    ys = xs + 0.005**2 / (0.005**2 + (xs - 0.5)**2)\n",
    "\n",
    "    plt.annotate(\n",
    "        r'SHARP PEAK',\n",
    "        xy=(0.5, 1.2), arrowprops=dict(arrowstyle='->'), xytext=(0.6, 0.8))\n",
    "\n",
    "    plt.text(0.02, 1, r'$f(x) = x + \\frac{a^2}{a^2 + (x-x_0)}$', fontdict={'size': 20});\n",
    "\n",
    "\n",
    "    plt.plot(xs, ys)\n",
    "    plt.title(\"1D example function\")\n",
    "    plt.xlabel('x')\n",
    "    plt.ylabel('y')\n",
    "    return fig\n",
    "\n",
    "\n",
    "def plot_loss_interval(learner):\n",
    "    if learner.npoints >= 2:\n",
    "        x_0, x_1 = max(learner.losses, key=learner.losses.get)\n",
    "        y_0, y_1 = learner.data[x_0], learner.data[x_1]\n",
    "        plot = hv.Scatter(([x_0, x_1], [y_0, y_1]))\n",
    "    else:\n",
    "        plot = hv.Scatter([])\n",
    "    return plot.opts(style=dict(size=6, color='r'))\n",
    "\n",
    "learner = adaptive.Learner1D(f, bounds=(-1, 1))\n",
    "plots = {0: learner.plot()}\n",
    "for n in range(1, 101):\n",
    "    xs, _ = learner.choose_points(1)\n",
    "    learner.add_data(xs, map(learner.function, xs))\n",
    "    plots[n] = (learner.plot() * plot_loss_interval(learner))[:, -1.1:1.1]\n",
    "hm_plots = hv.HoloMap(plots, kdims=['npoints']).relabel('something smarter')\n",
    "    \n",
    "    \n",
    "hom_learner = adaptive.Learner1D(f, bounds=(-1, 1), loss_per_interval=adaptive.learner.learner1D.uniform_loss)\n",
    "hom_plots = {0: hom_learner.plot()}\n",
    "for n in range(1, 101):\n",
    "    xs, _ = hom_learner.choose_points(1)\n",
    "    hom_learner.add_data(xs, map(hom_learner.function, xs))\n",
    "    hom_plots[n] = (hom_learner.plot() * plot_loss_interval(hom_learner))[:, -1.1:1.1]\n",
    "hm_hom_plots = hv.HoloMap(hom_plots, kdims=['npoints']).relabel('homogeneous')"
   ]
  },
  {
   "cell_type": "markdown",
   "metadata": {
    "extensions": {
     "jupyter_dashboards": {
      "version": 1,
      "views": {
       "grid_default": {
        "col": 0,
        "height": 4,
        "hidden": false,
        "row": 0,
        "width": 4
       },
       "report_default": {}
      }
     }
    },
    "hide_input": true,
    "slideshow": {
     "slide_type": "slide"
    }
   },
   "source": [
    "<div>\n",
    "  <img style=\"float: left; vertical-align:middle\" src=\"presentation/logo-small.png\">\n",
    "  <h1><span style=\"\">adaptive</span></h1>\n",
    "</div>\n",
    "a tool for adaptive and parallel evaluation of functions\n",
    "\n",
    "– [github.com/python-adaptive/adaptive](https://github.com/python-adaptive/adaptive) <br>\n",
    "– Bas Nijholt: [bas@nijho.lt](mailto:bas@nijho.lt)"
   ]
  },
  {
   "cell_type": "markdown",
   "metadata": {
    "extensions": {
     "jupyter_dashboards": {
      "version": 1,
      "views": {
       "grid_default": {
        "col": 4,
        "height": 4,
        "hidden": false,
        "row": 0,
        "width": 4
       },
       "report_default": {}
      }
     }
    },
    "slideshow": {
     "slide_type": "fragment"
    }
   },
   "source": [
    "<table>\n",
    "  <tr>\n",
    "    <th><img src=\"http://www.nijholt.org/images/profile.jpg\" alt=\"Bas\" height=\"200\" width=\"200\">Bas</th>\n",
    "    <th><img src=\"http://joseph.weston.cloud/images/me_profile.jpg\" alt=\"Joe\" height=\"200\" width=\"200\">Joe</th>\n",
    "    <th><img src=\"http://antonakhmerov.org/akhmerov_photo_fom.png\" alt=\"Anton\" height=\"200\" width=\"200\">Anton</th>\n",
    "  </tr>\n",
    "</table>"
   ]
  },
  {
   "cell_type": "markdown",
   "metadata": {
    "slideshow": {
     "slide_type": "slide"
    }
   },
   "source": [
    "# This talk\n",
    "* Who am I?\n",
    "* Which problem are we solving?\n",
    "* A motivating example\n",
    "* Introducing the core concepts of `adaptive`\n",
    "* Live coding example in the Jupyter notebook"
   ]
  },
  {
   "cell_type": "markdown",
   "metadata": {
    "slideshow": {
     "slide_type": "slide"
    }
   },
   "source": [
    "# Who am I?\n",
    "* Ph.D. student in Delft with Anton Akhmerov\n",
    "* Theoretical computational quantum mechanics (Majorana hybrid semiconductor superconductor nanowire devices)"
   ]
  },
  {
   "cell_type": "markdown",
   "metadata": {
    "slideshow": {
     "slide_type": "subslide"
    }
   },
   "source": [
    "# Heavy numerics"
   ]
  },
  {
   "cell_type": "markdown",
   "metadata": {
    "slideshow": {
     "slide_type": "fragment"
    }
   },
   "source": [
    "Proof: cluster usage of last 60 days, I burned `0.5 yr/day` of CPU time\n",
    "![](presentation/cluster.png)\n",
    "\n",
    "Source: http://hpc05.quantumtinkerer.tudelft.nl/"
   ]
  },
  {
   "cell_type": "markdown",
   "metadata": {
    "slideshow": {
     "slide_type": "subslide"
    }
   },
   "source": [
    "![](presentation/example_plot1.png)"
   ]
  },
  {
   "cell_type": "markdown",
   "metadata": {
    "extensions": {
     "jupyter_dashboards": {
      "version": 1,
      "views": {
       "grid_default": {
        "col": 0,
        "height": 5,
        "hidden": false,
        "row": 4,
        "width": 12
       },
       "report_default": {}
      }
     }
    },
    "slideshow": {
     "slide_type": "slide"
    }
   },
   "source": [
    "# The problems\n",
    "* How to sample a function?\n",
    "* When did we sufficiently sample the function?"
   ]
  },
  {
   "cell_type": "markdown",
   "metadata": {
    "extensions": {
     "jupyter_dashboards": {
      "version": 1,
      "views": {
       "grid_default": {
        "col": 11,
        "height": 4,
        "hidden": false,
        "row": 17,
        "width": null
       },
       "report_default": {}
      }
     }
    },
    "slideshow": {
     "slide_type": "slide"
    }
   },
   "source": [
    "# Simplest example, 1D function\n",
    "We start with the most common use-case: sampling a 1D function $\\ f: ℝ → ℝ$.\n",
    "\n",
    "We will use the following function:"
   ]
  },
  {
   "cell_type": "code",
   "execution_count": null,
   "metadata": {
    "hide_input": true,
    "slideshow": {
     "slide_type": "-"
    }
   },
   "outputs": [],
   "source": [
    "plot_sharp_peak((8, 6));"
   ]
  },
  {
   "cell_type": "markdown",
   "metadata": {
    "extensions": {
     "jupyter_dashboards": {
      "version": 1,
      "views": {
       "grid_default": {
        "col": 0,
        "height": 4,
        "hidden": false,
        "row": 9,
        "width": 4
       },
       "report_default": {}
      }
     }
    },
    "slideshow": {
     "slide_type": "slide"
    }
   },
   "source": [
    "## Homogeneous sampling, _the usual_\n",
    "```python\n",
    "xs = np.linspace(-1, 1, 100)\n",
    "ys = f(xs)\n",
    "```\n",
    "_Strategy_: choose a point in the middle of the largest interval $\\Delta$x"
   ]
  },
  {
   "cell_type": "code",
   "execution_count": null,
   "metadata": {
    "extensions": {
     "jupyter_dashboards": {
      "version": 1,
      "views": {
       "grid_default": {
        "col": 4,
        "height": 11,
        "hidden": false,
        "row": 9,
        "width": 4
       },
       "report_default": {}
      }
     }
    },
    "hide_input": true,
    "slideshow": {
     "slide_type": "-"
    }
   },
   "outputs": [],
   "source": [
    "%%output size=150\n",
    "hm_hom_plots"
   ]
  },
  {
   "cell_type": "markdown",
   "metadata": {
    "extensions": {
     "jupyter_dashboards": {
      "version": 1,
      "views": {
       "grid_default": {
        "col": 8,
        "height": 4,
        "hidden": false,
        "row": 9,
        "width": 4
       },
       "report_default": {}
      }
     }
    },
    "slideshow": {
     "slide_type": "slide"
    }
   },
   "source": [
    "## Better sampling, minimize the distance between the points\n",
    "_Strategy_: choose a point in the middle of the largest interval $\\sqrt{\\Delta x^2 + \\Delta y^2}$"
   ]
  },
  {
   "cell_type": "code",
   "execution_count": null,
   "metadata": {
    "extensions": {
     "jupyter_dashboards": {
      "version": 1,
      "views": {
       "grid_default": {
        "col": 0,
        "height": 11,
        "hidden": false,
        "row": 13,
        "width": 4
       },
       "report_default": {}
      }
     }
    },
    "hide_input": true,
    "scrolled": false,
    "slideshow": {
     "slide_type": "-"
    }
   },
   "outputs": [],
   "source": [
    "%%output size=120\n",
    "hm_hom_plots + hm_plots"
   ]
  },
  {
   "cell_type": "markdown",
   "metadata": {
    "slideshow": {
     "slide_type": "slide"
    }
   },
   "source": [
    "# the `adaptive` package\n",
    "[`adaptive`](https://gitlab.kwant-project.org/qt/adaptive-evaluation) is an open-source package:\n",
    "* 4314 lines of code and 628 commits\n",
    "* first version released Feb 2018\n",
    "\n",
    "**It does**:\n",
    "* Smarter sampling of functions\n",
    "    * 1D, 2D\n",
    "    * random functions (0D)\n",
    "    * numerical integration\n",
    "* easy parallelization\n",
    "* provide tools for live-plotting of the data"
   ]
  },
  {
   "cell_type": "markdown",
   "metadata": {
    "extensions": {
     "jupyter_dashboards": {
      "version": 1,
      "views": {
       "grid_default": {
        "col": 0,
        "height": 9,
        "hidden": false,
        "row": 34,
        "width": 12
       },
       "report_default": {}
      }
     }
    },
    "slideshow": {
     "slide_type": "slide"
    }
   },
   "source": [
    "# The `learner` object\n",
    "\n",
    "A learner takes the function to \"learn\" and the `bounds`.\n",
    "```python\n",
    "learner = adaptive.Learner1D(f, bounds=(-1, 1))\n",
    "```"
   ]
  },
  {
   "cell_type": "markdown",
   "metadata": {
    "slideshow": {
     "slide_type": "fragment"
    }
   },
   "source": [
    "The three most important methods:"
   ]
  },
  {
   "cell_type": "markdown",
   "metadata": {
    "slideshow": {
     "slide_type": "fragment"
    }
   },
   "source": [
    "`loss = learner.loss()` \"quality factor\" how well do the points describe the function?"
   ]
  },
  {
   "cell_type": "markdown",
   "metadata": {
    "slideshow": {
     "slide_type": "fragment"
    }
   },
   "source": [
    "`xs, loss_improvements = learner.choose_points(n=10)` give me new points, and tell me how \"good\" the points are"
   ]
  },
  {
   "cell_type": "markdown",
   "metadata": {
    "slideshow": {
     "slide_type": "fragment"
    }
   },
   "source": [
    "\n",
    "`learner.add_point(x_new, y_new)` add the newly calculated data"
   ]
  },
  {
   "cell_type": "markdown",
   "metadata": {
    "extensions": {
     "jupyter_dashboards": {
      "version": 1,
      "views": {
       "grid_default": {
        "col": 0,
        "height": 14,
        "hidden": false,
        "row": 43,
        "width": 12
       },
       "report_default": {}
      }
     }
    },
    "hide_input": false,
    "slideshow": {
     "slide_type": "slide"
    }
   },
   "source": [
    "# The `runner` object, _running the `learner`_\n",
    "\n",
    "We basically want to to something like _(not really how it works internally)_:\n",
    "\n",
    "```python\n",
    "learner = adaptive.Learner1D(f, bounds=(-1, 1))\n",
    "while learner.loss() > 0.01:\n",
    "    xs, _ = learner.choose_points(4)  # we do nothing with the `loss_improvements` now\n",
    "    for x in xs:\n",
    "        y = learner.function(x)\n",
    "        learner.add_point(x, y)\n",
    "```\n",
    "\n",
    "This has some problems: <br>\n",
    "• Not using all the resources<br>\n",
    "• Blocks the kernel, so we cannot plot the data while the calculation is in progress\n",
    "\n",
    "The `Runner` solves these problems.\n",
    "```python\n",
    "learner = adaptive.Learner1D(f, bounds=(-1, 1))\n",
    "runner = adaptive.Runner(learner, goal=lambda l: l.loss() < 0.01)\n",
    "```"
   ]
  },
  {
   "cell_type": "markdown",
   "metadata": {
    "slideshow": {
     "slide_type": "slide"
    }
   },
   "source": [
    "# switch to the a notebook: [tutorial-notebook.ipynb](tutorial-notebook.ipynb)\n",
    "![](presentation/live-coding-demos.jpg)"
   ]
  },
  {
   "cell_type": "markdown",
   "metadata": {
    "slideshow": {
     "slide_type": "slide"
    }
   },
   "source": [
    "# Thank you!\n",
    "\n",
    "### Install with\n",
    "```bash\n",
    "conda install -c conda-forge adaptive  # recommended\n",
    "pip install adaptive\n",
    "```\n",
    "### Questions on\n",
    "* Gitter chat [https://gitter.im/python-adaptive/adaptive](gitter.im/python-adaptive/adaptive)\n",
    "* Github issues [https://github.com/python-adaptive/adaptive](github.com/python-adaptive/adaptive)\n",
    "\n",
    "### This presentation\n",
    "* [adaptive.nijho.lt](http://adaptive.nijho.lt)"
   ]
  },
  {
   "cell_type": "markdown",
   "metadata": {
    "slideshow": {
     "slide_type": "slide"
    }
   },
   "source": [
    "![](presentation/example_plot2.png)"
   ]
  },
  {
   "cell_type": "markdown",
   "metadata": {
    "slideshow": {
     "slide_type": "slide"
    }
   },
   "source": [
    "![](presentation/trump.gif)"
   ]
  }
 ],
 "metadata": {
  "anaconda-cloud": {},
  "celltoolbar": "Slideshow",
  "extensions": {
   "jupyter_dashboards": {
    "activeView": "grid_default",
    "version": 1,
    "views": {
     "grid_default": {
      "cellMargin": 10,
      "defaultCellHeight": 20,
      "maxColumns": 12,
      "name": "grid",
      "type": "grid"
     },
     "report_default": {
      "name": "report",
      "type": "report"
     }
    }
   }
  },
  "kernelspec": {
   "display_name": "Python 3",
   "language": "python",
   "name": "python3"
  },
  "language_info": {
   "codemirror_mode": {
    "name": "ipython",
    "version": 3
   },
   "file_extension": ".py",
   "mimetype": "text/x-python",
   "name": "python",
   "nbconvert_exporter": "python",
   "pygments_lexer": "ipython3",
   "version": "3.6.5"
  }
 },
 "nbformat": 4,
 "nbformat_minor": 1
}
